{
 "cells": [
  {
   "cell_type": "markdown",
   "id": "3172a95f-9e9f-4271-a3ac-2e6c09dbaf61",
   "metadata": {},
   "source": [
    "# Evaluating NumpyNet using the MNIST dataset"
   ]
  },
  {
   "cell_type": "code",
   "execution_count": 20,
   "id": "7f013a1a-c7ad-4c52-83ed-223d72071d00",
   "metadata": {},
   "outputs": [
    {
     "ename": "SyntaxError",
     "evalue": "closing parenthesis ')' does not match opening parenthesis '[' (nn_utils.py, line 98)",
     "output_type": "error",
     "traceback": [
      "Traceback \u001b[0;36m(most recent call last)\u001b[0m:\n",
      "  File \u001b[1;32m\"/Users/garrettmccue/anaconda3/lib/python3.8/site-packages/IPython/core/interactiveshell.py\"\u001b[0m, line \u001b[1;32m3444\u001b[0m, in \u001b[1;35mrun_code\u001b[0m\n    exec(code_obj, self.user_global_ns, self.user_ns)\n",
      "\u001b[0;36m  File \u001b[0;32m\"/var/folders/6v/n7k6518972x6bfvr4s25jp240000gn/T/ipykernel_22384/936248301.py\"\u001b[0;36m, line \u001b[0;32m4\u001b[0;36m, in \u001b[0;35m<module>\u001b[0;36m\u001b[0m\n\u001b[0;31m    import nn_utils, numpynet.py\u001b[0m\n",
      "\u001b[0;36m  File \u001b[0;32m\"/Users/garrettmccue/projects/numpy_net/nn_utils.py\"\u001b[0;36m, line \u001b[0;32m98\u001b[0m\n\u001b[0;31m    parameters['W%s' % l)] = np.random.randn((layers_dims[l],layers_dims[l-1])) * np.sqrt(2./layers_dims[l-1])\u001b[0m\n\u001b[0m                        ^\u001b[0m\n\u001b[0;31mSyntaxError\u001b[0m\u001b[0;31m:\u001b[0m closing parenthesis ')' does not match opening parenthesis '['\n"
     ]
    }
   ],
   "source": [
    "# Import libraries\n",
    "import tensorflow as tf\n",
    "import matplotlib.pyplot as plt\n",
    "import nn_utils, numpynet.py"
   ]
  },
  {
   "cell_type": "markdown",
   "id": "73037f9c-b337-4c3d-90c0-24a1cdb3fb40",
   "metadata": {
    "tags": []
   },
   "source": [
    "## Data Processing\n",
    "\n",
    "- The [MNIST dataset](http://yann.lecun.com/exdb/mnist/) can be imported directly by using the [mnist.load_data](https://www.tensorflow.org/api_docs/python/tf/keras/datasets/mnist/load_data) method which is supplied by `tensorflow.keras.datasets`\n",
    "- The `load_data()` method returns \n",
    "    - Train data tuple\n",
    "        - **x_train**: uint8 NumPy array of grayscale image data with shapes `(60000, 28, 28)`, containing the training data. Pixel values range from 0 to 255.\n",
    "        - **y_train**: uint8 NumPy array of digit labels (integers in range 0-9) with shape `(60000,)` for the training data.\n",
    "    -Test data tuple:\n",
    "        - **x_test**: uint8 NumPy array of grayscale image data with shapes `(10000, 28, 28)`, containing the test data. Pixel values range from 0 to 255.\n",
    "        - **y_test**: uint8 NumPy array of digit labels (integers in range 0-9) with shape `(10000,)` for the test data. \n",
    "\n",
    "* training set size:  60,000\n",
    "* test set size: 10,000 "
   ]
  },
  {
   "cell_type": "code",
   "execution_count": 19,
   "id": "c7929dd0-194c-4a7a-b812-d68a4048aa5b",
   "metadata": {},
   "outputs": [],
   "source": [
    "# load data from tf.keras datasets \n",
    "\n",
    "(X_train, Y_train), (X_test, Y_test) = tf.keras.datasets.mnist.load_data()\n",
    "\n",
    "# make a copy of the x_train data to preserve the original data\n",
    "# can use for comparison with the processed data\n",
    "X_train_raw = X_train.copy()\n",
    "\n",
    "assert X_train.shape == (60000, 28, 28)\n",
    "assert X_test.shape == (10000, 28, 28)\n",
    "assert Y_train.shape == (60000,) \n",
    "assert Y_test.shape == (10000,)"
   ]
  },
  {
   "cell_type": "code",
   "execution_count": 18,
   "id": "1d8001f5-f061-4c55-be00-83da6500270f",
   "metadata": {},
   "outputs": [],
   "source": [
    "# plot row_num * col_num images starting at a specified index \n",
    "def plot_images(X, Y, row_num, col_num, index):\n",
    "    # total images to show\n",
    "    num = row_num * col_num\n",
    "    # set the index to slice by, 0 by default\n",
    "    if index != 0:\n",
    "        index = index\n",
    "    else:\n",
    "        index = 0\n",
    "        \n",
    "    # plot images\n",
    "    fig, axes = plt.subplots(row_num, col_num, figsize=(1.5*col_num, 2*row_num))\n",
    "    imgs = X[index:num+index]\n",
    "    labels = Y[index:num+index]\n",
    "    for i in range(num):\n",
    "        ax = axes[i//col_num, i%num_col]\n",
    "        ax.imshow(imgs[i], cmap='gray_r')\n",
    "        ax.set_title('label: {}'.format(labels[i]))\n",
    "        \n",
    "    plt.tight_layout()\n",
    "    plt.show()"
   ]
  },
  {
   "cell_type": "code",
   "execution_count": 17,
   "id": "38257e5a-a14f-42f5-9691-d96a1e0a1cb9",
   "metadata": {},
   "outputs": [
    {
     "data": {
      "image/png": "[encoded data removed]",
      "text/plain": [
       "<Figure size 432x288 with 1 Axes>"
      ]
     },
     "metadata": {
      "needs_background": "light"
     },
     "output_type": "display_data"
    }
   ],
   "source": [
    "%matplotlib inline\n",
    "# lets look at the first 10 images in the training set\n",
    "image = X_train[0]\n",
    "fig = plt.figure\n",
    "# plt.imshow(image, cmap='gray') # to plot white nums against black background\n",
    "plt.imshow(image, cmap='gray_r') # black nums against white background\n",
    "plt.show()"
   ]
  },
  {
   "cell_type": "code",
   "execution_count": null,
   "id": "cc981571-e739-40db-897c-e928657c56f5",
   "metadata": {},
   "outputs": [],
   "source": [
    "plot_images(X_train, Y_train,"
   ]
  }
 ],
 "metadata": {
  "kernelspec": {
   "display_name": "Python 3 (ipykernel)",
   "language": "python",
   "name": "python3"
  },
  "language_info": {
   "codemirror_mode": {
    "name": "ipython",
    "version": 3
   },
   "file_extension": ".py",
   "mimetype": "text/x-python",
   "name": "python",
   "nbconvert_exporter": "python",
   "pygments_lexer": "ipython3",
   "version": "3.8.12"
  }
 },
 "nbformat": 4,
 "nbformat_minor": 5
}
