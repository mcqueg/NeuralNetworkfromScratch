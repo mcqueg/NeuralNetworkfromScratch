{
 "cells": [
  {
   "cell_type": "markdown",
   "id": "3172a95f-9e9f-4271-a3ac-2e6c09dbaf61",
   "metadata": {},
   "source": [
    "# NumpyNet: Neural Network using only NumPy"
   ]
  },
  {
   "cell_type": "code",
   "execution_count": 1,
   "id": "7f013a1a-c7ad-4c52-83ed-223d72071d00",
   "metadata": {},
   "outputs": [],
   "source": [
    "# Import libraries\n",
    "import tensorflow as tf\n",
    "import matplotlib.pyplot as plt\n",
    "import numpy as np\n",
    "\n"
   ]
  },
  {
   "cell_type": "markdown",
   "id": "0bd60f9d",
   "metadata": {},
   "source": [
    "## Load Data"
   ]
  },
  {
   "cell_type": "code",
   "execution_count": 2,
   "id": "cb6af932",
   "metadata": {},
   "outputs": [],
   "source": [
    "(X_train, Y_train),(X_test, Y_test) = tf.keras.datasets.mnist.load_data()"
   ]
  },
  {
   "cell_type": "markdown",
   "id": "c6cfd984",
   "metadata": {},
   "source": [
    "## Preprocess data"
   ]
  },
  {
   "cell_type": "code",
   "execution_count": 3,
   "id": "00d12dce",
   "metadata": {},
   "outputs": [
    {
     "name": "stdout",
     "output_type": "stream",
     "text": [
      "Shape of train_images: (784, 60000)\n"
     ]
    }
   ],
   "source": [
    "def normalize(x):\n",
    "    return (x - np.min(x)) / (np.max(x) - np.min(x))\n",
    "\n",
    "# Preprocessing image data\n",
    "train_images = X_train.reshape((60000, 28*28)).T # reshape to feed into network\n",
    "#train_images = train_images.astype('float32') / 255 # normalize\n",
    "train_images = normalize(train_images)\n",
    "\n",
    "\n",
    "test_images = X_test.reshape((10000, 28 * 28)).T # reshape to feed into network\n",
    "#test_images = test_images.astype('float32') / 225 # normalize\n",
    "test_images = normalize(test_images)\n",
    "\n",
    "print(\"Shape of train_images: {}\".format(train_images.shape))"
   ]
  },
  {
   "cell_type": "code",
   "execution_count": 4,
   "id": "3fb3d5cc",
   "metadata": {},
   "outputs": [
    {
     "name": "stdout",
     "output_type": "stream",
     "text": [
      "Shape of train_labels: (10, 60000)\n"
     ]
    }
   ],
   "source": [
    "# preprocess label data\n",
    "\n",
    "# one hot encode the labels of shape (num examples, 1)\n",
    "def one_hot(labels):\n",
    "    # create matrix of correct sizing with zeros\n",
    "    oh_labels = np.zeros((labels.size, labels.max() + 1))\n",
    "    # specify for each row to place a 1 in the column corresponding to the correct label\n",
    "    # i.e. if label = 2 ; [0 0 1 0 0 0 0 0 0 0]\n",
    "    oh_labels[np.arange(labels.size), labels] = 1\n",
    "    # flip so each column is an example\n",
    "    oh_labels = oh_labels.T\n",
    "    \n",
    "    return oh_labels\n",
    "\n",
    "train_labels = one_hot(Y_train)\n",
    "test_labels = one_hot(Y_test)\n",
    "\n",
    "print(\"Shape of train_labels: {}\".format(train_labels.shape))"
   ]
  },
  {
   "cell_type": "markdown",
   "id": "d48f8055",
   "metadata": {},
   "source": [
    "## Initialize Parameters"
   ]
  },
  {
   "cell_type": "code",
   "execution_count": 5,
   "id": "87cafd07",
   "metadata": {},
   "outputs": [],
   "source": [
    "def initialize_params(seed):\n",
    "    np.random.seed(seed)\n",
    "    W1 = np.random.randn(128, 784) * np.sqrt(2./784)\n",
    "    b1 = np.zeros((128, 1))\n",
    "    W2 = np.random.randn(10, 128) * np.sqrt(2./128)\n",
    "    b2 = np.zeros((10, 1))\n",
    "   \n",
    "    return W1, b1, W2, b2\n"
   ]
  },
  {
   "cell_type": "markdown",
   "id": "1b62eed2",
   "metadata": {},
   "source": [
    "## Activation Functions"
   ]
  },
  {
   "cell_type": "code",
   "execution_count": 6,
   "id": "f66a93ff",
   "metadata": {},
   "outputs": [],
   "source": [
    "# ReLU for hidden layers\n",
    "def ReLU(Z):\n",
    "    return np.maximum(Z, 0)\n",
    "\n",
    "# for backprop through hidden layers\n",
    "def ReLU_deriv(Z):\n",
    "    return Z > 0\n",
    "\n",
    "# Softmax for output layer\n",
    "def softmax(Z):\n",
    "    A = np.exp(Z)/ sum(np.exp(Z))\n",
    "    return A"
   ]
  },
  {
   "cell_type": "markdown",
   "id": "eb6e1156",
   "metadata": {},
   "source": [
    "## Forward Propagation"
   ]
  },
  {
   "cell_type": "code",
   "execution_count": 7,
   "id": "fee30ab2",
   "metadata": {},
   "outputs": [],
   "source": [
    "def forward_prop(X, Y, W1, b1, W2, b2):\n",
    "    m = X.shape[1]\n",
    "    Z1 = np.dot(W1, X) + b1\n",
    "    A1 = ReLU(Z1)\n",
    "    Z2 = np.dot(W2, A1) + b2\n",
    "    A2 = softmax(Z2) # make predictions\n",
    "    \n",
    "    cost = (-1/m) * np.sum(Y * np.log(A2+1e-9))\n",
    "\n",
    "    return Z1, A1, Z2, A2, cost"
   ]
  },
  {
   "cell_type": "markdown",
   "id": "168a183f",
   "metadata": {},
   "source": [
    "## Back Propagation"
   ]
  },
  {
   "cell_type": "code",
   "execution_count": 8,
   "id": "c71710c2",
   "metadata": {},
   "outputs": [],
   "source": [
    "def back_prop(X, Y, Z1, A1, Z2, A2, W1, W2): # Z2, W1 not needed\n",
    "    # total sample count\n",
    "    m = X.shape[1]\n",
    "\n",
    "    # layer 2\n",
    "    dZ2 = A2 - Y\n",
    "    dW2 = (1 / m) * np.dot(dZ2, A1.T)\n",
    "    db2 = (1 / m) * np.sum(dZ2, axis=1, keepdims=True)\n",
    "\n",
    "    # layer 1\n",
    "    dZ1 = np.dot(W2.T, dZ2) * ReLU_deriv(Z1)\n",
    "    dW1 = (1 / m) * np.dot(dZ1, X.T)\n",
    "    db1 = (1 / m) * np.sum(dZ1, axis=1, keepdims=True)\n",
    "\n",
    "    return dW1, db1, dW2, db2"
   ]
  },
  {
   "cell_type": "markdown",
   "id": "21a2b469",
   "metadata": {},
   "source": [
    "## Update Parameters"
   ]
  },
  {
   "cell_type": "code",
   "execution_count": 9,
   "id": "3fb99865",
   "metadata": {},
   "outputs": [],
   "source": [
    "def update_parameters(W1, b1, W2, b2, dW1, dW2, db1, db2, alpha):\n",
    "    W1 = W1 - alpha * dW1\n",
    "    b1 = b1 - alpha * db1\n",
    "    W2 = W2 - alpha * dW2\n",
    "    b2 = b2 - alpha * db2\n",
    "\n",
    "    return W1, b1, W2, b2"
   ]
  },
  {
   "cell_type": "markdown",
   "id": "5eae5037",
   "metadata": {},
   "source": [
    "## Evaluation functions"
   ]
  },
  {
   "cell_type": "code",
   "execution_count": 10,
   "id": "eec04558",
   "metadata": {},
   "outputs": [],
   "source": [
    "def get_predictions(A2):\n",
    "    return np.argmax(A2, axis=0)\n",
    "\n",
    "def get_accuracy(predictions, Y):\n",
    "    accuracy = np.sum(predictions == Y) / Y.size\n",
    "    # print(predictions, Y)\n",
    "\n",
    "    return accuracy \n"
   ]
  },
  {
   "cell_type": "markdown",
   "id": "6d0b259d",
   "metadata": {},
   "source": [
    "## Model"
   ]
  },
  {
   "cell_type": "code",
   "execution_count": 11,
   "id": "28d34dbd",
   "metadata": {},
   "outputs": [],
   "source": [
    "def nn(X, Y, alpha, iterations, seed=33):\n",
    "    W1, b1, W2, b2 = initialize_params(seed)\n",
    "    # loop through gradient descent based on the number of iterations and add accuracy to empty list\n",
    "    acc = []\n",
    "    costs = []\n",
    "    for i in range(iterations):\n",
    "        # forward prop\n",
    "        Z1, A1, Z2, A2, cost = forward_prop(X, Y, W1, b1, W2, b2)\n",
    "        costs.append(cost)\n",
    "        # back prop\n",
    "        dW1, db1, dW2, db2 = back_prop(X, Y, Z1, A1, Z2, A2, W1, W2)\n",
    "        # update parameters\n",
    "        W1, b1, W2, b2 = update_parameters(W1, b1, W2, b2, dW1, dW2, db1, db2, alpha)\n",
    "        # display accuracy and predictions every 10 iterations of gradient descent\n",
    "        if i % 25 == 0:\n",
    "            predictions = get_predictions(A2)\n",
    "            accuracy = get_accuracy(predictions, Y)\n",
    "            acc.append(accuracy)\n",
    "            print(\"iteration {}: Accuracy = {}; Cost = {}\".format(i, accuracy, costs[i]))\n",
    "            \n",
    "        \n",
    "    return W1, b1, W2, b2, acc, costs"
   ]
  },
  {
   "cell_type": "markdown",
   "id": "7b03a1f5",
   "metadata": {},
   "source": [
    "## Train Model"
   ]
  },
  {
   "cell_type": "code",
   "execution_count": 12,
   "id": "3f75f896",
   "metadata": {},
   "outputs": [
    {
     "name": "stdout",
     "output_type": "stream",
     "text": [
      "iteration 0: Accuracy = 0.05853333333333333; Cost = 2.3773656333264546\n",
      "iteration 25: Accuracy = 0.08875333333333334; Cost = 2.1080303416288766\n",
      "iteration 50: Accuracy = 0.11225; Cost = 1.9119647926168506\n",
      "iteration 75: Accuracy = 0.11849833333333333; Cost = 1.7398858647749407\n",
      "iteration 100: Accuracy = 0.1163; Cost = 1.5860095503074612\n",
      "iteration 125: Accuracy = 0.113135; Cost = 1.4491564256037497\n",
      "iteration 150: Accuracy = 0.11057333333333333; Cost = 1.3286954431550864\n",
      "iteration 175: Accuracy = 0.10903833333333333; Cost = 1.2236984741050427\n",
      "iteration 200: Accuracy = 0.10773666666666666; Cost = 1.1329104106896508\n",
      "iteration 225: Accuracy = 0.10718166666666666; Cost = 1.0546679963731453\n",
      "iteration 250: Accuracy = 0.10666833333333334; Cost = 0.9872769496177316\n",
      "iteration 275: Accuracy = 0.10598333333333333; Cost = 0.9291612865759475\n",
      "iteration 300: Accuracy = 0.10551833333333334; Cost = 0.8788445845138251\n",
      "iteration 325: Accuracy = 0.10507166666666666; Cost = 0.8350488419673264\n",
      "iteration 350: Accuracy = 0.104725; Cost = 0.7967324709304231\n",
      "iteration 375: Accuracy = 0.10451833333333334; Cost = 0.7630346417895559\n",
      "iteration 400: Accuracy = 0.10427666666666667; Cost = 0.7332272887050818\n",
      "iteration 425: Accuracy = 0.10405333333333333; Cost = 0.7067078956304403\n",
      "iteration 450: Accuracy = 0.10397833333333334; Cost = 0.6829987889922808\n",
      "iteration 475: Accuracy = 0.10385333333333334; Cost = 0.6616866018702973\n"
     ]
    },
    {
     "ename": "AttributeError",
     "evalue": "'Line2D' object has no property 'title'",
     "output_type": "error",
     "traceback": [
      "\u001b[0;31m---------------------------------------------------------------------------\u001b[0m",
      "\u001b[0;31mAttributeError\u001b[0m                            Traceback (most recent call last)",
      "\u001b[1;32m/Users/garrettmccue/projects/numpy_net/numpynet.ipynb Cell 23'\u001b[0m in \u001b[0;36m<cell line: 6>\u001b[0;34m()\u001b[0m\n\u001b[1;32m      <a href='vscode-notebook-cell:/Users/garrettmccue/projects/numpy_net/numpynet.ipynb#ch0000026?line=3'>4</a>\u001b[0m loss \u001b[39m=\u001b[39m np\u001b[39m.\u001b[39marray(costs)\n\u001b[1;32m      <a href='vscode-notebook-cell:/Users/garrettmccue/projects/numpy_net/numpynet.ipynb#ch0000026?line=4'>5</a>\u001b[0m x \u001b[39m=\u001b[39m [x \u001b[39m*\u001b[39m \u001b[39m100\u001b[39m \u001b[39mfor\u001b[39;00m x \u001b[39min\u001b[39;00m \u001b[39mrange\u001b[39m(\u001b[39mlen\u001b[39m(loss))]\n\u001b[0;32m----> <a href='vscode-notebook-cell:/Users/garrettmccue/projects/numpy_net/numpynet.ipynb#ch0000026?line=5'>6</a>\u001b[0m plt\u001b[39m.\u001b[39;49mplot(x, loss, title\u001b[39m=\u001b[39;49m\u001b[39m\"\u001b[39;49m\u001b[39mtraining loss\u001b[39;49m\u001b[39m\"\u001b[39;49m)\n",
      "File \u001b[0;32m~/anaconda3/lib/python3.8/site-packages/matplotlib/pyplot.py:3019\u001b[0m, in \u001b[0;36mplot\u001b[0;34m(scalex, scaley, data, *args, **kwargs)\u001b[0m\n\u001b[1;32m   <a href='file:///Users/garrettmccue/anaconda3/lib/python3.8/site-packages/matplotlib/pyplot.py?line=3016'>3017</a>\u001b[0m \u001b[39m@_copy_docstring_and_deprecators\u001b[39m(Axes\u001b[39m.\u001b[39mplot)\n\u001b[1;32m   <a href='file:///Users/garrettmccue/anaconda3/lib/python3.8/site-packages/matplotlib/pyplot.py?line=3017'>3018</a>\u001b[0m \u001b[39mdef\u001b[39;00m \u001b[39mplot\u001b[39m(\u001b[39m*\u001b[39margs, scalex\u001b[39m=\u001b[39m\u001b[39mTrue\u001b[39;00m, scaley\u001b[39m=\u001b[39m\u001b[39mTrue\u001b[39;00m, data\u001b[39m=\u001b[39m\u001b[39mNone\u001b[39;00m, \u001b[39m*\u001b[39m\u001b[39m*\u001b[39mkwargs):\n\u001b[0;32m-> <a href='file:///Users/garrettmccue/anaconda3/lib/python3.8/site-packages/matplotlib/pyplot.py?line=3018'>3019</a>\u001b[0m     \u001b[39mreturn\u001b[39;00m gca()\u001b[39m.\u001b[39;49mplot(\n\u001b[1;32m   <a href='file:///Users/garrettmccue/anaconda3/lib/python3.8/site-packages/matplotlib/pyplot.py?line=3019'>3020</a>\u001b[0m         \u001b[39m*\u001b[39;49margs, scalex\u001b[39m=\u001b[39;49mscalex, scaley\u001b[39m=\u001b[39;49mscaley,\n\u001b[1;32m   <a href='file:///Users/garrettmccue/anaconda3/lib/python3.8/site-packages/matplotlib/pyplot.py?line=3020'>3021</a>\u001b[0m         \u001b[39m*\u001b[39;49m\u001b[39m*\u001b[39;49m({\u001b[39m\"\u001b[39;49m\u001b[39mdata\u001b[39;49m\u001b[39m\"\u001b[39;49m: data} \u001b[39mif\u001b[39;49;00m data \u001b[39mis\u001b[39;49;00m \u001b[39mnot\u001b[39;49;00m \u001b[39mNone\u001b[39;49;00m \u001b[39melse\u001b[39;49;00m {}), \u001b[39m*\u001b[39;49m\u001b[39m*\u001b[39;49mkwargs)\n",
      "File \u001b[0;32m~/anaconda3/lib/python3.8/site-packages/matplotlib/axes/_axes.py:1605\u001b[0m, in \u001b[0;36mAxes.plot\u001b[0;34m(self, scalex, scaley, data, *args, **kwargs)\u001b[0m\n\u001b[1;32m   <a href='file:///Users/garrettmccue/anaconda3/lib/python3.8/site-packages/matplotlib/axes/_axes.py?line=1362'>1363</a>\u001b[0m \u001b[39m\"\"\"\u001b[39;00m\n\u001b[1;32m   <a href='file:///Users/garrettmccue/anaconda3/lib/python3.8/site-packages/matplotlib/axes/_axes.py?line=1363'>1364</a>\u001b[0m \u001b[39mPlot y versus x as lines and/or markers.\u001b[39;00m\n\u001b[1;32m   <a href='file:///Users/garrettmccue/anaconda3/lib/python3.8/site-packages/matplotlib/axes/_axes.py?line=1364'>1365</a>\u001b[0m \n\u001b[0;32m   (...)\u001b[0m\n\u001b[1;32m   <a href='file:///Users/garrettmccue/anaconda3/lib/python3.8/site-packages/matplotlib/axes/_axes.py?line=1601'>1602</a>\u001b[0m \u001b[39m(``'green'``) or hex strings (``'#008000'``).\u001b[39;00m\n\u001b[1;32m   <a href='file:///Users/garrettmccue/anaconda3/lib/python3.8/site-packages/matplotlib/axes/_axes.py?line=1602'>1603</a>\u001b[0m \u001b[39m\"\"\"\u001b[39;00m\n\u001b[1;32m   <a href='file:///Users/garrettmccue/anaconda3/lib/python3.8/site-packages/matplotlib/axes/_axes.py?line=1603'>1604</a>\u001b[0m kwargs \u001b[39m=\u001b[39m cbook\u001b[39m.\u001b[39mnormalize_kwargs(kwargs, mlines\u001b[39m.\u001b[39mLine2D)\n\u001b[0;32m-> <a href='file:///Users/garrettmccue/anaconda3/lib/python3.8/site-packages/matplotlib/axes/_axes.py?line=1604'>1605</a>\u001b[0m lines \u001b[39m=\u001b[39m [\u001b[39m*\u001b[39m\u001b[39mself\u001b[39m\u001b[39m.\u001b[39m_get_lines(\u001b[39m*\u001b[39margs, data\u001b[39m=\u001b[39mdata, \u001b[39m*\u001b[39m\u001b[39m*\u001b[39mkwargs)]\n\u001b[1;32m   <a href='file:///Users/garrettmccue/anaconda3/lib/python3.8/site-packages/matplotlib/axes/_axes.py?line=1605'>1606</a>\u001b[0m \u001b[39mfor\u001b[39;00m line \u001b[39min\u001b[39;00m lines:\n\u001b[1;32m   <a href='file:///Users/garrettmccue/anaconda3/lib/python3.8/site-packages/matplotlib/axes/_axes.py?line=1606'>1607</a>\u001b[0m     \u001b[39mself\u001b[39m\u001b[39m.\u001b[39madd_line(line)\n",
      "File \u001b[0;32m~/anaconda3/lib/python3.8/site-packages/matplotlib/axes/_base.py:315\u001b[0m, in \u001b[0;36m_process_plot_var_args.__call__\u001b[0;34m(self, data, *args, **kwargs)\u001b[0m\n\u001b[1;32m    <a href='file:///Users/garrettmccue/anaconda3/lib/python3.8/site-packages/matplotlib/axes/_base.py?line=312'>313</a>\u001b[0m     this \u001b[39m+\u001b[39m\u001b[39m=\u001b[39m args[\u001b[39m0\u001b[39m],\n\u001b[1;32m    <a href='file:///Users/garrettmccue/anaconda3/lib/python3.8/site-packages/matplotlib/axes/_base.py?line=313'>314</a>\u001b[0m     args \u001b[39m=\u001b[39m args[\u001b[39m1\u001b[39m:]\n\u001b[0;32m--> <a href='file:///Users/garrettmccue/anaconda3/lib/python3.8/site-packages/matplotlib/axes/_base.py?line=314'>315</a>\u001b[0m \u001b[39myield from\u001b[39;00m \u001b[39mself\u001b[39;49m\u001b[39m.\u001b[39;49m_plot_args(this, kwargs)\n",
      "File \u001b[0;32m~/anaconda3/lib/python3.8/site-packages/matplotlib/axes/_base.py:539\u001b[0m, in \u001b[0;36m_process_plot_var_args._plot_args\u001b[0;34m(self, tup, kwargs, return_kwargs)\u001b[0m\n\u001b[1;32m    <a href='file:///Users/garrettmccue/anaconda3/lib/python3.8/site-packages/matplotlib/axes/_base.py?line=536'>537</a>\u001b[0m     \u001b[39mreturn\u001b[39;00m \u001b[39mlist\u001b[39m(result)\n\u001b[1;32m    <a href='file:///Users/garrettmccue/anaconda3/lib/python3.8/site-packages/matplotlib/axes/_base.py?line=537'>538</a>\u001b[0m \u001b[39melse\u001b[39;00m:\n\u001b[0;32m--> <a href='file:///Users/garrettmccue/anaconda3/lib/python3.8/site-packages/matplotlib/axes/_base.py?line=538'>539</a>\u001b[0m     \u001b[39mreturn\u001b[39;00m [l[\u001b[39m0\u001b[39m] \u001b[39mfor\u001b[39;00m l \u001b[39min\u001b[39;00m result]\n",
      "File \u001b[0;32m~/anaconda3/lib/python3.8/site-packages/matplotlib/axes/_base.py:539\u001b[0m, in \u001b[0;36m<listcomp>\u001b[0;34m(.0)\u001b[0m\n\u001b[1;32m    <a href='file:///Users/garrettmccue/anaconda3/lib/python3.8/site-packages/matplotlib/axes/_base.py?line=536'>537</a>\u001b[0m     \u001b[39mreturn\u001b[39;00m \u001b[39mlist\u001b[39m(result)\n\u001b[1;32m    <a href='file:///Users/garrettmccue/anaconda3/lib/python3.8/site-packages/matplotlib/axes/_base.py?line=537'>538</a>\u001b[0m \u001b[39melse\u001b[39;00m:\n\u001b[0;32m--> <a href='file:///Users/garrettmccue/anaconda3/lib/python3.8/site-packages/matplotlib/axes/_base.py?line=538'>539</a>\u001b[0m     \u001b[39mreturn\u001b[39;00m [l[\u001b[39m0\u001b[39m] \u001b[39mfor\u001b[39;00m l \u001b[39min\u001b[39;00m result]\n",
      "File \u001b[0;32m~/anaconda3/lib/python3.8/site-packages/matplotlib/axes/_base.py:532\u001b[0m, in \u001b[0;36m<genexpr>\u001b[0;34m(.0)\u001b[0m\n\u001b[1;32m    <a href='file:///Users/garrettmccue/anaconda3/lib/python3.8/site-packages/matplotlib/axes/_base.py?line=528'>529</a>\u001b[0m \u001b[39melse\u001b[39;00m:\n\u001b[1;32m    <a href='file:///Users/garrettmccue/anaconda3/lib/python3.8/site-packages/matplotlib/axes/_base.py?line=529'>530</a>\u001b[0m     labels \u001b[39m=\u001b[39m [label] \u001b[39m*\u001b[39m n_datasets\n\u001b[0;32m--> <a href='file:///Users/garrettmccue/anaconda3/lib/python3.8/site-packages/matplotlib/axes/_base.py?line=531'>532</a>\u001b[0m result \u001b[39m=\u001b[39m (make_artist(x[:, j \u001b[39m%\u001b[39;49m ncx], y[:, j \u001b[39m%\u001b[39;49m ncy], kw,\n\u001b[1;32m    <a href='file:///Users/garrettmccue/anaconda3/lib/python3.8/site-packages/matplotlib/axes/_base.py?line=532'>533</a>\u001b[0m                       {\u001b[39m*\u001b[39;49m\u001b[39m*\u001b[39;49mkwargs, \u001b[39m'\u001b[39;49m\u001b[39mlabel\u001b[39;49m\u001b[39m'\u001b[39;49m: label})\n\u001b[1;32m    <a href='file:///Users/garrettmccue/anaconda3/lib/python3.8/site-packages/matplotlib/axes/_base.py?line=533'>534</a>\u001b[0m           \u001b[39mfor\u001b[39;00m j, label \u001b[39min\u001b[39;00m \u001b[39menumerate\u001b[39m(labels))\n\u001b[1;32m    <a href='file:///Users/garrettmccue/anaconda3/lib/python3.8/site-packages/matplotlib/axes/_base.py?line=535'>536</a>\u001b[0m \u001b[39mif\u001b[39;00m return_kwargs:\n\u001b[1;32m    <a href='file:///Users/garrettmccue/anaconda3/lib/python3.8/site-packages/matplotlib/axes/_base.py?line=536'>537</a>\u001b[0m     \u001b[39mreturn\u001b[39;00m \u001b[39mlist\u001b[39m(result)\n",
      "File \u001b[0;32m~/anaconda3/lib/python3.8/site-packages/matplotlib/axes/_base.py:354\u001b[0m, in \u001b[0;36m_process_plot_var_args._makeline\u001b[0;34m(self, x, y, kw, kwargs)\u001b[0m\n\u001b[1;32m    <a href='file:///Users/garrettmccue/anaconda3/lib/python3.8/site-packages/matplotlib/axes/_base.py?line=351'>352</a>\u001b[0m default_dict \u001b[39m=\u001b[39m \u001b[39mself\u001b[39m\u001b[39m.\u001b[39m_getdefaults(\u001b[39mset\u001b[39m(), kw)\n\u001b[1;32m    <a href='file:///Users/garrettmccue/anaconda3/lib/python3.8/site-packages/matplotlib/axes/_base.py?line=352'>353</a>\u001b[0m \u001b[39mself\u001b[39m\u001b[39m.\u001b[39m_setdefaults(default_dict, kw)\n\u001b[0;32m--> <a href='file:///Users/garrettmccue/anaconda3/lib/python3.8/site-packages/matplotlib/axes/_base.py?line=353'>354</a>\u001b[0m seg \u001b[39m=\u001b[39m mlines\u001b[39m.\u001b[39;49mLine2D(x, y, \u001b[39m*\u001b[39;49m\u001b[39m*\u001b[39;49mkw)\n\u001b[1;32m    <a href='file:///Users/garrettmccue/anaconda3/lib/python3.8/site-packages/matplotlib/axes/_base.py?line=354'>355</a>\u001b[0m \u001b[39mreturn\u001b[39;00m seg, kw\n",
      "File \u001b[0;32m~/anaconda3/lib/python3.8/site-packages/matplotlib/lines.py:397\u001b[0m, in \u001b[0;36mLine2D.__init__\u001b[0;34m(self, xdata, ydata, linewidth, linestyle, color, marker, markersize, markeredgewidth, markeredgecolor, markerfacecolor, markerfacecoloralt, fillstyle, antialiased, dash_capstyle, solid_capstyle, dash_joinstyle, solid_joinstyle, pickradius, drawstyle, markevery, **kwargs)\u001b[0m\n\u001b[1;32m    <a href='file:///Users/garrettmccue/anaconda3/lib/python3.8/site-packages/matplotlib/lines.py?line=392'>393</a>\u001b[0m \u001b[39mself\u001b[39m\u001b[39m.\u001b[39mset_markeredgewidth(markeredgewidth)\n\u001b[1;32m    <a href='file:///Users/garrettmccue/anaconda3/lib/python3.8/site-packages/matplotlib/lines.py?line=394'>395</a>\u001b[0m \u001b[39m# update kwargs before updating data to give the caller a\u001b[39;00m\n\u001b[1;32m    <a href='file:///Users/garrettmccue/anaconda3/lib/python3.8/site-packages/matplotlib/lines.py?line=395'>396</a>\u001b[0m \u001b[39m# chance to init axes (and hence unit support)\u001b[39;00m\n\u001b[0;32m--> <a href='file:///Users/garrettmccue/anaconda3/lib/python3.8/site-packages/matplotlib/lines.py?line=396'>397</a>\u001b[0m \u001b[39mself\u001b[39;49m\u001b[39m.\u001b[39;49mupdate(kwargs)\n\u001b[1;32m    <a href='file:///Users/garrettmccue/anaconda3/lib/python3.8/site-packages/matplotlib/lines.py?line=397'>398</a>\u001b[0m \u001b[39mself\u001b[39m\u001b[39m.\u001b[39mpickradius \u001b[39m=\u001b[39m pickradius\n\u001b[1;32m    <a href='file:///Users/garrettmccue/anaconda3/lib/python3.8/site-packages/matplotlib/lines.py?line=398'>399</a>\u001b[0m \u001b[39mself\u001b[39m\u001b[39m.\u001b[39mind_offset \u001b[39m=\u001b[39m \u001b[39m0\u001b[39m\n",
      "File \u001b[0;32m~/anaconda3/lib/python3.8/site-packages/matplotlib/artist.py:1062\u001b[0m, in \u001b[0;36mArtist.update\u001b[0;34m(self, props)\u001b[0m\n\u001b[1;32m   <a href='file:///Users/garrettmccue/anaconda3/lib/python3.8/site-packages/matplotlib/artist.py?line=1059'>1060</a>\u001b[0m             func \u001b[39m=\u001b[39m \u001b[39mgetattr\u001b[39m(\u001b[39mself\u001b[39m, \u001b[39mf\u001b[39m\u001b[39m\"\u001b[39m\u001b[39mset_\u001b[39m\u001b[39m{\u001b[39;00mk\u001b[39m}\u001b[39;00m\u001b[39m\"\u001b[39m, \u001b[39mNone\u001b[39;00m)\n\u001b[1;32m   <a href='file:///Users/garrettmccue/anaconda3/lib/python3.8/site-packages/matplotlib/artist.py?line=1060'>1061</a>\u001b[0m             \u001b[39mif\u001b[39;00m \u001b[39mnot\u001b[39;00m callable(func):\n\u001b[0;32m-> <a href='file:///Users/garrettmccue/anaconda3/lib/python3.8/site-packages/matplotlib/artist.py?line=1061'>1062</a>\u001b[0m                 \u001b[39mraise\u001b[39;00m \u001b[39mAttributeError\u001b[39;00m(\u001b[39mf\u001b[39m\u001b[39m\"\u001b[39m\u001b[39m{\u001b[39;00m\u001b[39mtype\u001b[39m(\u001b[39mself\u001b[39m)\u001b[39m.\u001b[39m\u001b[39m__name__\u001b[39m\u001b[39m!r}\u001b[39;00m\u001b[39m object \u001b[39m\u001b[39m\"\u001b[39m\n\u001b[1;32m   <a href='file:///Users/garrettmccue/anaconda3/lib/python3.8/site-packages/matplotlib/artist.py?line=1062'>1063</a>\u001b[0m                                      \u001b[39mf\u001b[39m\u001b[39m\"\u001b[39m\u001b[39mhas no property \u001b[39m\u001b[39m{\u001b[39;00mk\u001b[39m!r}\u001b[39;00m\u001b[39m\"\u001b[39m)\n\u001b[1;32m   <a href='file:///Users/garrettmccue/anaconda3/lib/python3.8/site-packages/matplotlib/artist.py?line=1063'>1064</a>\u001b[0m             ret\u001b[39m.\u001b[39mappend(func(v))\n\u001b[1;32m   <a href='file:///Users/garrettmccue/anaconda3/lib/python3.8/site-packages/matplotlib/artist.py?line=1064'>1065</a>\u001b[0m \u001b[39mif\u001b[39;00m ret:\n",
      "\u001b[0;31mAttributeError\u001b[0m: 'Line2D' object has no property 'title'"
     ]
    },
    {
     "data": {
      "image/png": "[encoded data removed]",
      "text/plain": [
       "<Figure size 432x288 with 1 Axes>"
      ]
     },
     "metadata": {
      "needs_background": "light"
     },
     "output_type": "display_data"
    }
   ],
   "source": [
    "W1, b1, W2, b2, accuracy, costs = nn(train_images, train_labels, 0.01, 500)\n",
    "\n",
    "# plot training loss\n",
    "loss = np.array(costs)\n",
    "x = [x * 100 for x in range(len(loss))]\n",
    "plt.plot(x, loss)\n",
    "plt.title(\"training loss\")"
   ]
  },
  {
   "cell_type": "code",
   "execution_count": null,
   "id": "17a4346f",
   "metadata": {},
   "outputs": [],
   "source": [
    "# plot training accuracy\n",
    "acc = np.array(accuracy)\n",
    "x = [x for x in range(len(acc))]\n",
    "plt.plot(x, acc)\n",
    "\n",
    "plt.title(\"training accuracy\")"
   ]
  },
  {
   "cell_type": "code",
   "execution_count": null,
   "id": "54ba5f54",
   "metadata": {},
   "outputs": [],
   "source": []
  }
 ],
 "metadata": {
  "kernelspec": {
   "display_name": "Python 3 (ipykernel)",
   "language": "python",
   "name": "python3"
  },
  "language_info": {
   "codemirror_mode": {
    "name": "ipython",
    "version": 3
   },
   "file_extension": ".py",
   "mimetype": "text/x-python",
   "name": "python",
   "nbconvert_exporter": "python",
   "pygments_lexer": "ipython3",
   "version": "3.8.12"
  }
 },
 "nbformat": 4,
 "nbformat_minor": 5
}
