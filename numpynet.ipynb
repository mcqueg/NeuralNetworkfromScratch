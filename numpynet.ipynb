{
 "cells": [
  {
   "cell_type": "markdown",
   "id": "3172a95f-9e9f-4271-a3ac-2e6c09dbaf61",
   "metadata": {},
   "source": [
    "# NumpyNet: Neural Network using only NumPy"
   ]
  },
  {
   "cell_type": "code",
   "execution_count": 1,
   "id": "7f013a1a-c7ad-4c52-83ed-223d72071d00",
   "metadata": {},
   "outputs": [],
   "source": [
    "# Import libraries\n",
    "import tensorflow as tf\n",
    "import matplotlib.pyplot as plt\n",
    "import numpy as np\n",
    "\n"
   ]
  },
  {
   "cell_type": "markdown",
   "id": "0bd60f9d",
   "metadata": {},
   "source": [
    "## Load Data"
   ]
  },
  {
   "cell_type": "code",
   "execution_count": 2,
   "id": "cb6af932",
   "metadata": {},
   "outputs": [],
   "source": [
    "(X_train, Y_train),(X_test, Y_test) = tf.keras.datasets.mnist.load_data()"
   ]
  },
  {
   "cell_type": "markdown",
   "id": "c6cfd984",
   "metadata": {},
   "source": [
    "## Preprocess data"
   ]
  },
  {
   "cell_type": "code",
   "execution_count": 3,
   "id": "00d12dce",
   "metadata": {},
   "outputs": [
    {
     "name": "stdout",
     "output_type": "stream",
     "text": [
      "Shape of train_images: (784, 60000)\n"
     ]
    }
   ],
   "source": [
    "#def normalize(x):\n",
    " #   return (x - np.min(x)) / (np.max(x) - np.min(x))\n",
    "\n",
    "# Preprocessing image data\n",
    "train_images = X_train.reshape((60000, 28*28)).T # reshape to feed into network\n",
    "train_images = train_images.astype('float32') / 255 # normalize\n",
    "#train_images = normalize(train_images)\n",
    "\n",
    "\n",
    "test_images = X_test.reshape((10000, 28 * 28)).T # reshape to feed into network\n",
    "test_images = test_images.astype('float32') / 225 # normalize\n",
    "#test_images = normalize(test_images)\n",
    "\n",
    "print(\"Shape of train_images: {}\".format(train_images.shape))"
   ]
  },
  {
   "cell_type": "code",
   "execution_count": 4,
   "id": "3fb3d5cc",
   "metadata": {},
   "outputs": [
    {
     "name": "stdout",
     "output_type": "stream",
     "text": [
      "Shape of train_labels: (10, 60000)\n"
     ]
    }
   ],
   "source": [
    "# preprocess label data\n",
    "\n",
    "# one hot encode the labels of shape (num examples, 1)\n",
    "def one_hot(labels):\n",
    "    # create matrix of correct sizing with zeros\n",
    "    oh_labels = np.zeros((labels.size, labels.max() + 1))\n",
    "    # specify for each row to place a 1 in the column corresponding to the correct label\n",
    "    # i.e. if label = 2 ; [0 0 1 0 0 0 0 0 0 0]\n",
    "    oh_labels[np.arange(labels.size), labels] = 1\n",
    "    # flip so each column is an example\n",
    "    oh_labels = oh_labels.T\n",
    "    \n",
    "    return oh_labels\n",
    "\n",
    "train_labels = one_hot(Y_train)\n",
    "test_labels = one_hot(Y_test)\n",
    "\n",
    "print(\"Shape of train_labels: {}\".format(train_labels.shape))"
   ]
  },
  {
   "cell_type": "markdown",
   "id": "d48f8055",
   "metadata": {},
   "source": [
    "## Initialize Parameters"
   ]
  },
  {
   "cell_type": "code",
   "execution_count": 5,
   "id": "87cafd07",
   "metadata": {},
   "outputs": [],
   "source": [
    "def initialize_params(seed):\n",
    "    np.random.seed(seed)\n",
    "    W1 = np.random.randn(64, 784) * np.sqrt(2./784)\n",
    "    b1 = np.zeros((64, 1))\n",
    "    W2 = np.random.randn(10, 64) * np.sqrt(2./64)\n",
    "    b2 = np.zeros((10, 1))\n",
    "   \n",
    "    return W1, b1, W2, b2\n"
   ]
  },
  {
   "cell_type": "markdown",
   "id": "1b62eed2",
   "metadata": {},
   "source": [
    "## Activation Functions"
   ]
  },
  {
   "cell_type": "code",
   "execution_count": 6,
   "id": "f66a93ff",
   "metadata": {},
   "outputs": [],
   "source": [
    "# ReLU for hidden layers\n",
    "def ReLU(Z):\n",
    "    return np.maximum(Z, 0)\n",
    "\n",
    "# for backprop through hidden layers\n",
    "def ReLU_deriv(Z):\n",
    "    return Z > 0\n",
    "\n",
    "# Softmax for output layer\n",
    "def softmax(Z):\n",
    "    A = np.exp(Z)/ sum(np.exp(Z))\n",
    "    return A"
   ]
  },
  {
   "cell_type": "markdown",
   "id": "eb6e1156",
   "metadata": {},
   "source": [
    "## Forward Propagation"
   ]
  },
  {
   "cell_type": "code",
   "execution_count": 7,
   "id": "fee30ab2",
   "metadata": {},
   "outputs": [],
   "source": [
    "def forward_prop(X, Y, W1, b1, W2, b2):\n",
    "    m = X.shape[1]\n",
    "    Z1 = np.dot(W1, X) + b1\n",
    "    A1 = ReLU(Z1)\n",
    "    Z2 = np.dot(W2, A1) + b2\n",
    "    A2 = softmax(Z2) # make predictions\n",
    "    \n",
    "    cost = (-1/m) * np.sum(Y * np.log(A2+1e-9))\n",
    "\n",
    "    return Z1, A1, Z2, A2, cost"
   ]
  },
  {
   "cell_type": "markdown",
   "id": "168a183f",
   "metadata": {},
   "source": [
    "## Back Propagation"
   ]
  },
  {
   "cell_type": "code",
   "execution_count": 8,
   "id": "c71710c2",
   "metadata": {},
   "outputs": [],
   "source": [
    "def back_prop(X, Y, Z1, A1, Z2, A2, W1, W2): # Z2, W1 not needed\n",
    "    # total sample count\n",
    "    m = X.shape[1]\n",
    "\n",
    "    # layer 2\n",
    "    dZ2 = A2 - Y\n",
    "    dW2 = (1 / m) * np.dot(dZ2, A1.T)\n",
    "    db2 = (1 / m) * np.sum(dZ2, axis=1, keepdims=True)\n",
    "\n",
    "    # layer 1\n",
    "    dZ1 = np.dot(W2.T, dZ2) * ReLU_deriv(Z1)\n",
    "    dW1 = (1 / m) * np.dot(dZ1, X.T)\n",
    "    db1 = (1 / m) * np.sum(dZ1, axis=1, keepdims=True)\n",
    "\n",
    "    return dW1, db1, dW2, db2"
   ]
  },
  {
   "cell_type": "markdown",
   "id": "21a2b469",
   "metadata": {},
   "source": [
    "## Update Parameters"
   ]
  },
  {
   "cell_type": "code",
   "execution_count": 9,
   "id": "3fb99865",
   "metadata": {},
   "outputs": [],
   "source": [
    "def update_parameters(W1, b1, W2, b2, dW1, dW2, db1, db2, alpha):\n",
    "    W1 = W1 - alpha * dW1\n",
    "    b1 = b1 - alpha * db1\n",
    "    W2 = W2 - alpha * dW2\n",
    "    b2 = b2 - alpha * db2\n",
    "\n",
    "    return W1, b1, W2, b2"
   ]
  },
  {
   "cell_type": "markdown",
   "id": "5eae5037",
   "metadata": {},
   "source": [
    "## Evaluation functions"
   ]
  },
  {
   "cell_type": "code",
   "execution_count": 10,
   "id": "eec04558",
   "metadata": {},
   "outputs": [],
   "source": [
    "def get_labels(A2):\n",
    "    return np.argmax(A2, axis=0)\n",
    "\n",
    "def get_accuracy(A2, Y):\n",
    "    return np.mean(A2.argmax(axis=0) == Y.argmax(axis=0))\n"
   ]
  },
  {
   "cell_type": "markdown",
   "id": "6d0b259d",
   "metadata": {},
   "source": [
    "## Model"
   ]
  },
  {
   "cell_type": "code",
   "execution_count": 11,
   "id": "28d34dbd",
   "metadata": {},
   "outputs": [],
   "source": [
    "def nn(X, Y, alpha, iterations, seed=33):\n",
    "    W1, b1, W2, b2 = initialize_params(seed)\n",
    "    # loop through gradient descent based on the number of iterations and add accuracy to empty list\n",
    "    acc = []\n",
    "    costs = []\n",
    "    for i in range(iterations):\n",
    "        # forward prop\n",
    "        Z1, A1, Z2, A2, cost = forward_prop(X, Y, W1, b1, W2, b2)\n",
    "        costs.append(cost)\n",
    "        # back prop\n",
    "        dW1, db1, dW2, db2 = back_prop(X, Y, Z1, A1, Z2, A2, W1, W2)\n",
    "        # update parameters\n",
    "        W1, b1, W2, b2 = update_parameters(W1, b1, W2, b2, dW1, dW2, db1, db2, alpha)\n",
    "        # display accuracy and predictions every 10 iterations of gradient descent\n",
    "        if i % 100 == 0:\n",
    "            predictions = get_labels(A2)\n",
    "            accuracy = get_accuracy(A2, Y)\n",
    "            acc.append(accuracy)\n",
    "            print(\"Iteration: {} | Accuracy: {:.3f}% | Loss:{:.3f}\".format(i, accuracy*100, costs[i]))\n",
    "            \n",
    "        \n",
    "    return W1, b1, W2, b2, acc, costs"
   ]
  },
  {
   "cell_type": "markdown",
   "id": "7b03a1f5",
   "metadata": {},
   "source": [
    "## Train Model"
   ]
  },
  {
   "cell_type": "code",
   "execution_count": 12,
   "id": "3f75f896",
   "metadata": {},
   "outputs": [
    {
     "name": "stdout",
     "output_type": "stream",
     "text": [
      "Iteration: 0 | Accuracy: 13.878% | Loss:2.426\n",
      "Iteration: 100 | Accuracy: 87.897% | Loss:0.467\n",
      "Iteration: 200 | Accuracy: 89.910% | Loss:0.367\n",
      "Iteration: 300 | Accuracy: 90.827% | Loss:0.327\n",
      "Iteration: 400 | Accuracy: 91.552% | Loss:0.302\n"
     ]
    },
    {
     "data": {
      "text/plain": [
       "Text(0.5, 1.0, 'training loss')"
      ]
     },
     "execution_count": 12,
     "metadata": {},
     "output_type": "execute_result"
    },
    {
     "data": {
      "image/png": "[encoded data removed]",
      "text/plain": [
       "<Figure size 432x288 with 1 Axes>"
      ]
     },
     "metadata": {
      "needs_background": "light"
     },
     "output_type": "display_data"
    }
   ],
   "source": [
    "\n",
    "W1, b1, W2, b2, accuracy, costs = nn(train_images, train_labels, 0.1, 500)\n",
    "\n",
    "# plot training loss\n",
    "loss = np.array(costs)\n",
    "x = [x for x in range(len(loss))]\n",
    "plt.plot(x, loss)\n",
    "plt.title(\"training loss\")\n"
   ]
  },
  {
   "cell_type": "code",
   "execution_count": 13,
   "id": "17a4346f",
   "metadata": {},
   "outputs": [
    {
     "data": {
      "text/plain": [
       "Text(0.5, 1.0, 'training accuracy')"
      ]
     },
     "execution_count": 13,
     "metadata": {},
     "output_type": "execute_result"
    },
    {
     "data": {
      "image/png": "[encoded data removed]",
      "text/plain": [
       "<Figure size 432x288 with 1 Axes>"
      ]
     },
     "metadata": {
      "needs_background": "light"
     },
     "output_type": "display_data"
    }
   ],
   "source": [
    "\n",
    "# plot training accuracy\n",
    "acc = np.array(accuracy)\n",
    "x = [x * 25 for x in range(len(acc))]\n",
    "plt.plot(x, acc)\n",
    "\n",
    "plt.title(\"training accuracy\")\n"
   ]
  },
  {
   "cell_type": "markdown",
   "id": "5feab010",
   "metadata": {},
   "source": [
    "## Test model params"
   ]
  },
  {
   "cell_type": "code",
   "execution_count": 14,
   "id": "be6f1ba1",
   "metadata": {},
   "outputs": [],
   "source": [
    "def nn_eval(X, Y, W1, b1, W2, b2):\n",
    "    # forward pass with the weights from trained model\n",
    "    Z1, A1, Z2, A2, loss = forward_prop(X, Y, W1, b1, W2, b2)\n",
    "    preds = get_labels(A2)\n",
    "    acc = get_accuracy(A2, Y)\n",
    "   \n",
    "    return preds, acc"
   ]
  },
  {
   "cell_type": "code",
   "execution_count": 15,
   "id": "e7f96c92",
   "metadata": {},
   "outputs": [
    {
     "name": "stdout",
     "output_type": "stream",
     "text": [
      "Accuracy: 92.18 %\n"
     ]
    }
   ],
   "source": [
    "pred_labels, accuracy = nn_eval(test_images, test_labels, W1, b1, W2, b2)\n",
    "print(\"Accuracy: {:.2f} %\".format(accuracy*100))"
   ]
  }
 ],
 "metadata": {
  "kernelspec": {
   "display_name": "Python 3 (ipykernel)",
   "language": "python",
   "name": "python3"
  },
  "language_info": {
   "codemirror_mode": {
    "name": "ipython",
    "version": 3
   },
   "file_extension": ".py",
   "mimetype": "text/x-python",
   "name": "python",
   "nbconvert_exporter": "python",
   "pygments_lexer": "ipython3",
   "version": "3.8.12"
  }
 },
 "nbformat": 4,
 "nbformat_minor": 5
}
